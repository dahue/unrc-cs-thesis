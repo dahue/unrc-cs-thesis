{
 "cells": [
  {
   "cell_type": "code",
   "execution_count": 1,
   "metadata": {},
   "outputs": [],
   "source": [
    "%run ../utils/init_env.py"
   ]
  },
  {
   "cell_type": "code",
   "execution_count": 2,
   "metadata": {},
   "outputs": [],
   "source": [
    "import os\n",
    "import re\n",
    "import ast\n",
    "import json\n",
    "import config\n",
    "import sqlite3\n",
    "from collections import defaultdict"
   ]
  },
  {
   "cell_type": "code",
   "execution_count": 3,
   "metadata": {},
   "outputs": [],
   "source": [
    "def parse_schema_sqlite(db_path, max_samples=3):\n",
    "    conn = sqlite3.connect(db_path)\n",
    "    cursor = conn.cursor()\n",
    "\n",
    "    cursor.execute(\"SELECT name FROM sqlite_master WHERE type='table';\")\n",
    "    tables = [row[0] for row in cursor.fetchall()]\n",
    "\n",
    "    formatted_tables = []\n",
    "\n",
    "    for table in tables:\n",
    "        cursor.execute(f\"PRAGMA table_info({table});\")\n",
    "        columns = [row[1] for row in cursor.fetchall()]  # row[1] is column name\n",
    "\n",
    "        cursor.execute(f\"SELECT * FROM {table} LIMIT {max_samples};\")\n",
    "        rows = cursor.fetchall()\n",
    "\n",
    "        col_samples = list(zip(*rows)) if rows else [[] for _ in columns]\n",
    "\n",
    "        col_strs = []\n",
    "        for col, vals in zip(columns, col_samples):\n",
    "            val_list = \", \".join(str(v) for v in vals[:max_samples])\n",
    "            col_strs.append(f\"{col}[{val_list}]\")\n",
    "        formatted = f\"# {table}(\" + \", \".join(col_strs) + \")\"\n",
    "        formatted_tables.append(formatted)\n",
    "\n",
    "    conn.close()\n",
    "    return formatted_tables\n",
    "\n",
    "\n",
    "def build_llm_prompt_with_data(entry, formatted_data_lines, example_qas=None):\n",
    "    header = (\n",
    "        \"### Answer the question by SQLite SQL query only and with no explanation. \"\n",
    "        \"You must minimize SQL execution time while ensuring correctness.\\n\"\n",
    "    )\n",
    "\n",
    "    schema = f\"### Sqlite SQL tables, with their properties:\\n#\\n{entry['simplified_ddl']}\\n#\\n\"\n",
    "\n",
    "    data_section = \"### Here is some data information about database references.\\n#\\n\"\n",
    "    data_section += \"\\n\".join(formatted_data_lines) + \"\\n#\\n\"\n",
    "\n",
    "    foreign_keys = \"### Foreign key information of SQLite tables, used for table joins:\\n#\\n\"\n",
    "    foreign_keys += \"# \" + \"\\n# \".join(entry[\"foreign_key\"]) + \"\\n#\\n\"\n",
    "\n",
    "    few_shot = \"\"\n",
    "    if example_qas:\n",
    "        few_shot = \"### Some example pairs of questions and corresponding SQL queries are provided based on similar questions:\\n\"\n",
    "        for q, sql in example_qas:\n",
    "            few_shot += f\"### {q}\\n{sql}\\n\"\n",
    "\n",
    "    question = f\"### {entry['question']}\\n\"\n",
    "\n",
    "    return f\"{header}{schema}{data_section}{foreign_keys}{few_shot}{question}\""
   ]
  },
  {
   "cell_type": "code",
   "execution_count": 4,
   "metadata": {},
   "outputs": [
    {
     "name": "stdout",
     "output_type": "stream",
     "text": [
      "2147\n"
     ]
    }
   ],
   "source": [
    "with open(os.path.join(config.PREPROCESSED_JSON), 'r', encoding='utf-8') as f:\n",
    "    entries = json.load(f)\n",
    "\n",
    "print(len(entries))"
   ]
  },
  {
   "cell_type": "code",
   "execution_count": null,
   "metadata": {},
   "outputs": [
    {
     "ename": "IndentationError",
     "evalue": "unexpected indent (1371661793.py, line 12)",
     "output_type": "error",
     "traceback": [
      "\u001b[0;36m  Cell \u001b[0;32mIn[5], line 12\u001b[0;36m\u001b[0m\n\u001b[0;31m    \"id\": idx,\u001b[0m\n\u001b[0m    ^\u001b[0m\n\u001b[0;31mIndentationError\u001b[0m\u001b[0;31m:\u001b[0m unexpected indent\n"
     ]
    }
   ],
   "source": [
    "example_qas= [\n",
    "    (\"How many farms are there?\", \"SELECT count(*) FROM farm\"),\n",
    "    (\"What is the average, minimum, and maximum age for all French singers?\", \"SELECT avg(age) ,  min(age) ,  max(age) FROM singer WHERE country  =  'France'\"),\n",
    "    (\"Show the ID of the high schooler named Kyle.\", \"SELECT ID FROM Highschooler WHERE name  =  \\\"Kyle\\\"\")\n",
    "]\n",
    "\n",
    "prompts = []\n",
    "for entry in entries:\n",
    "    schema_path = f'{os.path.join(config.SPIDER_DATA_DIR, \"test_database\")}/{entry[\"db\"]}/{entry[\"db\"]}.sqlite'\n",
    "    formatted_data_lines = parse_schema_sqlite(schema_path)\n",
    "    prompt = build_llm_prompt_with_data(entry, formatted_data_lines, example_qas)\n",
    "    prompts.append({\n",
    "        \"id\": entry['id'],\n",
    "        \"db\": entry['db'],\n",
    "        \"gold_sql\": entry[\"gold_sql\"],\n",
    "        'prompt': prompt\n",
    "    }\n",
    "    )\n",
    "\n",
    "# Save output\n",
    "with open(config.PROMPTS_JSON, \"w\", encoding=\"utf-8\") as f:\n",
    "    json.dump(prompts, f, indent=4)\n",
    "\n",
    "# for prompt in prompts[:]:\n",
    "#     print(prompt)\n",
    "#     print(\"-\" * 80)"
   ]
  },
  {
   "cell_type": "code",
   "execution_count": null,
   "metadata": {},
   "outputs": [],
   "source": []
  }
 ],
 "metadata": {
  "kernelspec": {
   "display_name": "unrc-cs-thesis",
   "language": "python",
   "name": "python3"
  },
  "language_info": {
   "codemirror_mode": {
    "name": "ipython",
    "version": 3
   },
   "file_extension": ".py",
   "mimetype": "text/x-python",
   "name": "python",
   "nbconvert_exporter": "python",
   "pygments_lexer": "ipython3",
   "version": "3.12.9"
  }
 },
 "nbformat": 4,
 "nbformat_minor": 2
}
