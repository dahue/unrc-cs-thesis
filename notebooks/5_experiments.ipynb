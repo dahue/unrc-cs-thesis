{
 "cells": [
  {
   "cell_type": "code",
   "execution_count": 4,
   "metadata": {},
   "outputs": [],
   "source": [
    "%run ../utils/init_env.py"
   ]
  },
  {
   "cell_type": "code",
   "execution_count": 10,
   "metadata": {},
   "outputs": [
    {
     "name": "stdout",
     "output_type": "stream",
     "text": [
      "http://Adrians-Mac-mini.local:12345/v1/chat/completions\n"
     ]
    }
   ],
   "source": [
    "import requests\n",
    "import config\n",
    "import json\n",
    "import csv\n",
    "import random\n",
    "import re\n",
    "import os\n",
    "from datetime import datetime\n",
    "from typing import List, Dict\n",
    "from concurrent.futures import ThreadPoolExecutor\n",
    "\n",
    "# Configuration\n",
    "API_URL = config.get_model_config()['api_url']\n",
    "print(API_URL)"
   ]
  },
  {
   "cell_type": "code",
   "execution_count": 11,
   "metadata": {},
   "outputs": [],
   "source": [
    "CSV_FILE = os.path.join(config.EXPERIMENTS_DIR, 'experiment_log.csv')\n",
    "\n",
    "FIELDNAMES = [\n",
    "    'timestamp',\n",
    "    'name',\n",
    "    'goal',\n",
    "    'model',\n",
    "    'temperature',\n",
    "    'max_tokens',\n",
    "    'top_k',\n",
    "    'top_p',\n",
    "    'prompt',\n",
    "    'output'\n",
    "]\n",
    "\n",
    "def init_csv(csv_file: str = CSV_FILE) -> None:\n",
    "    \"\"\"Initialize the CSV file with headers if it doesn't exist.\"\"\"\n",
    "    if not os.path.exists(csv_file):\n",
    "        with open(csv_file, 'w', newline='', encoding='utf-8') as f:\n",
    "            writer = csv.DictWriter(f, fieldnames=FIELDNAMES)\n",
    "            writer.writeheader()\n",
    "\n",
    "def log_experiment(experiment_data: dict, csv_file: str = CSV_FILE) -> None:\n",
    "    \"\"\"Append a new experiment to the CSV log.\"\"\"\n",
    "    with open(csv_file, 'a', newline='', encoding='utf-8') as f:\n",
    "        writer = csv.DictWriter(f, fieldnames=FIELDNAMES)\n",
    "        writer.writerow(experiment_data)\n",
    "\n",
    "def send_and_log_prompt(\n",
    "    prompt: str,\n",
    "    name: str = \"None\",\n",
    "    goal: str = \"None\",\n",
    "    model: str = \"phi-4\",\n",
    "    temperature: float = 0.7,\n",
    "    max_tokens: int = 500,\n",
    "    top_k: int = 3,\n",
    "    top_p: float = 0.1\n",
    ") -> str:\n",
    "    \"\"\"\n",
    "    Sends a prompt to the local LLM, logs the experiment in a CSV with a timestamp, and returns the response.\n",
    "    \"\"\"\n",
    "    # Prepare model options\n",
    "    options = {\n",
    "        'model': model,\n",
    "        'temperature': temperature,\n",
    "    }\n",
    "\n",
    "    headers = config.get_model_config()['headers']()\n",
    "    payload = {\n",
    "        'model': model,\n",
    "        'messages': [{\"role\": \"user\", \"content\": prompt}],\n",
    "        'temperature': temperature\n",
    "    }\n",
    "\n",
    "    try:\n",
    "        response = requests.post(API_URL, headers=headers, json=payload)\n",
    "        response.raise_for_status()\n",
    "        output = response.json()[\"choices\"][0][\"message\"][\"content\"].strip()\n",
    "    except requests.exceptions.RequestException as e:\n",
    "        print(f\"Error connecting to LMStudio: {e}\")\n",
    "        output = \"Error\"\n",
    "\n",
    "    # Ensure the CSV exists\n",
    "    init_csv()\n",
    "\n",
    "    # Add timestamp to the experiment record\n",
    "    experiment_record = {\n",
    "        'timestamp': datetime.now().strftime(\"%Y-%m-%dT%H:%M:%S\"),\n",
    "        'name': name,\n",
    "        'goal': goal,\n",
    "        'model': model,\n",
    "        'temperature': temperature,\n",
    "        'max_tokens': max_tokens,\n",
    "        'top_k': top_k,\n",
    "        'top_p': top_p,\n",
    "        'prompt': prompt,\n",
    "        'output': output\n",
    "    }\n",
    "    log_experiment(experiment_record)\n",
    "\n",
    "    return output"
   ]
  },
  {
   "cell_type": "code",
   "execution_count": 12,
   "metadata": {},
   "outputs": [],
   "source": [
    "full_prompt = \"\"\"\n",
    "### Answer the question by SQLite SQL query only and with no explanation. You must minimize SQL execution time while ensuring correctness.\n",
    "### Sqlite SQL tables, with their properties:\n",
    "# Products(product_id, parent_product_id, product_name, product_price, product_color, product_size, product_description)\n",
    "# Customers(customer_id, gender_code, customer_first_name, customer_middle_initial, customer_last_name, email_address, login_name, login_password, phone_number, address_line_1, town_city, county, country)\n",
    "# Customer_Payment_Methods(customer_id, payment_method_code)\n",
    "# Invoices(invoice_number, invoice_status_code, invoice_date)\n",
    "# Orders(order_id, customer_id, order_status_code, date_order_placed)\n",
    "# Order_Items(order_item_id, product_id, order_id, order_item_status_code)\n",
    "# Shipments(shipment_id, order_id, invoice_number, shipment_tracking_number, shipment_date)\n",
    "# Shipment_Items(shipment_id, order_item_id)\n",
    "#\n",
    "### Here is some data information about database references.\n",
    "#\n",
    "# Products(product_id[1, 2, 3], parent_product_id[8, 3, 1], product_name[Dell monitor, Dell keyboard, iPhone6s], product_price[795.62, 104, 560.93], product_color[Red, Yellow, Red], product_size[Medium, Medium, Small], product_description[Latest model!, Keyboard for games!, Second hand!])\n",
    "# Customers(customer_id[1, 2, 3], gender_code[Female, Male, Male], customer_first_name[Carmen, Jace, Vickie], customer_middle_initial[K, P, B], customer_last_name[Treutel, Mraz, Bergnaum], email_address[pgulgowski@example.com, zwisozk@example.org, herzog.imogene@example.org], login_name[murphy07, desmond.steuber, kihn.alfonso], login_password[58952d0e0d28de32db3b, 7ba2e47aa0904d9fbdbf, 83a1afbe21f5ca4cd2d5], phone_number[(253)336-6277, 628-468-4228x5917, 633-223-0975], address_line_1[646 Herzog Key Suite 702, 67899 Cassin Hollow Suite 071, 395 Christophe Trail], town_city[Port Madonnahaven, Port Korychester, Lornaland], county[Israel, Palau, Moldova], country[USA, USA, USA])\n",
    "# Customer_Payment_Methods(customer_id[15, 1, 10], payment_method_code[Direct Debit, Direct Debit, Direct Debit])\n",
    "# Invoices(invoice_number[1, 2, 3], invoice_status_code[Paid, Issued, Paid], invoice_date[2018-03-09 07:16:07, 2018-01-28 20:08:22, 2018-02-13 02:16:55])\n",
    "# Orders(order_id[1, 2, 3], customer_id[5, 13, 13], order_status_code[Cancelled, Part Completed, Cancelled], date_order_placed[2017-09-17 16:13:07, 2017-10-14 12:05:48, 2017-09-10 08:27:04])\n",
    "# Order_Items(order_item_id[1, 2, 3], product_id[4, 3, 2], order_id[8, 4, 7], order_item_status_code[Delivered, Out of Stock, Delivered])\n",
    "# Shipments(shipment_id[1, 2, 3], order_id[7, 6, 9], invoice_number[5, 2, 4], shipment_tracking_number[6900, 3499, 5617], shipment_date[2018-02-28 00:04:11, 2018-03-07 01:57:14, 2018-03-18 22:23:19])\n",
    "# Shipment_Items(shipment_id[4, 7, 15], order_item_id[4, 14, 9])\n",
    "#\n",
    "### Foreign key information of SQLite tables, used for table joins:\n",
    "#\n",
    "# Customer_Payment_Methods(customer_id) REFERENCES Customers(customer_id)\n",
    "# Orders(customer_id) REFERENCES Customers(customer_id)\n",
    "# Order_Items(order_id) REFERENCES Orders(order_id)\n",
    "# Order_Items(product_id) REFERENCES Products(product_id)\n",
    "# Shipments(order_id) REFERENCES Orders(order_id)\n",
    "# Shipments(invoice_number) REFERENCES Invoices(invoice_number)\n",
    "# Shipment_Items(order_item_id) REFERENCES Order_Items(order_item_id)\n",
    "# Shipment_Items(shipment_id) REFERENCES Shipments(shipment_id)\n",
    "#\n",
    "### Some example pairs of questions and corresponding SQL queries are provided based on similar questions:\n",
    "### How many farms are there?\n",
    "SELECT count(*) FROM farm\n",
    "### What is the average, minimum, and maximum age for all French singers?\n",
    "SELECT avg(age) ,  min(age) ,  max(age) FROM singer WHERE country  =  'France'\n",
    "### Show the ID of the high schooler named Kyle.\n",
    "SELECT ID FROM Highschooler WHERE name  =  \\\"Kyle\\\"\n",
    "### What are the names and colors of all products that have been shipped?\n",
    "\"\"\""
   ]
  },
  {
   "cell_type": "code",
   "execution_count": 13,
   "metadata": {},
   "outputs": [
    {
     "name": "stdout",
     "output_type": "stream",
     "text": [
      "Error connecting to LMStudio: 404 Client Error: Not Found for url: http://adrians-mac-mini.local:12345/v1/chat/completions\n",
      "Model response: Error\n"
     ]
    }
   ],
   "source": [
    "\n",
    "response = send_and_log_prompt(\n",
    "    prompt=full_prompt,\n",
    "    name=\"experiment_0\",\n",
    "    goal=\"Test SQL query generation for NL queries\",\n",
    "    model=\"phi-4\",\n",
    "    temperature=0.3\n",
    ")\n",
    "\n",
    "print(\"Model response:\", response)"
   ]
  },
  {
   "cell_type": "code",
   "execution_count": null,
   "metadata": {},
   "outputs": [],
   "source": []
  }
 ],
 "metadata": {
  "kernelspec": {
   "display_name": "unrc-cs-thesis",
   "language": "python",
   "name": "python3"
  },
  "language_info": {
   "codemirror_mode": {
    "name": "ipython",
    "version": 3
   },
   "file_extension": ".py",
   "mimetype": "text/x-python",
   "name": "python",
   "nbconvert_exporter": "python",
   "pygments_lexer": "ipython3",
   "version": "3.12.9"
  }
 },
 "nbformat": 4,
 "nbformat_minor": 2
}
