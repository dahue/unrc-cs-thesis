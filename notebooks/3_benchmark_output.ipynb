{
 "cells": [
  {
   "cell_type": "code",
   "execution_count": 3,
   "metadata": {},
   "outputs": [],
   "source": [
    "%run ../utils/init_env.py"
   ]
  },
  {
   "cell_type": "code",
   "execution_count": 10,
   "metadata": {},
   "outputs": [],
   "source": [
    "import sqlite3\n",
    "import json\n",
    "import os\n",
    "import pandas as pd\n",
    "# import evaluation as spider\n",
    "import spider.evaluation as sp"
   ]
  },
  {
   "cell_type": "code",
   "execution_count": 11,
   "metadata": {},
   "outputs": [],
   "source": [
    "SPIDER_DATA = \"/Users/atissera/Developer/repos/unrc-cs-thesis/spider_data\"\n",
    "# PREDICTED_DATA = \"/Users/atissera/Developer/repos/unrc-cs-thesis/data\"\n",
    "PREDICTED_DATA = SPIDER_DATA\n",
    "\n",
    "DB_DIR = f\"{SPIDER_DATA}/test_database\"\n",
    "GOLD = f\"{SPIDER_DATA}/test_gold.sql\"\n",
    "PREDICT = f\"{PREDICTED_DATA}/test_gold.sql\"\n",
    "KMAPS = sp.build_foreign_key_map_from_json(f\"{SPIDER_DATA}/test_tables.json\")\n",
    "\n",
    "ETYPE = \"all\" # "
   ]
  },
  {
   "cell_type": "code",
   "execution_count": 14,
   "metadata": {},
   "outputs": [
    {
     "name": "stdout",
     "output_type": "stream",
     "text": [
      "                     easy                 medium               hard                 extra                all                 \n",
      "count                470                  857                  463                  357                  2147                \n",
      "=====================   EXECUTION ACCURACY     =====================\n",
      "execution            1.000                1.000                1.000                1.000                1.000               \n",
      "\n",
      "====================== EXACT MATCHING ACCURACY =====================\n",
      "exact match          1.000                1.000                1.000                1.000                1.000               \n",
      "\n",
      "---------------------PARTIAL MATCHING ACCURACY----------------------\n",
      "select               1.000                1.000                1.000                1.000                1.000               \n",
      "select(no AGG)       1.000                1.000                1.000                1.000                1.000               \n",
      "where                1.000                1.000                1.000                1.000                1.000               \n",
      "where(no OP)         1.000                1.000                1.000                1.000                1.000               \n",
      "group(no Having)     1.000                1.000                1.000                1.000                1.000               \n",
      "group                1.000                1.000                1.000                1.000                1.000               \n",
      "order                1.000                1.000                1.000                1.000                1.000               \n",
      "and/or               1.000                1.000                1.000                1.000                1.000               \n",
      "IUEN                 0.000                0.000                1.000                1.000                1.000               \n",
      "keywords             1.000                1.000                1.000                1.000                1.000               \n",
      "---------------------- PARTIAL MATCHING RECALL ----------------------\n",
      "select               1.000                1.000                1.000                1.000                1.000               \n",
      "select(no AGG)       1.000                1.000                1.000                1.000                1.000               \n",
      "where                1.000                1.000                1.000                1.000                1.000               \n",
      "where(no OP)         1.000                1.000                1.000                1.000                1.000               \n",
      "group(no Having)     1.000                1.000                1.000                1.000                1.000               \n",
      "group                1.000                1.000                1.000                1.000                1.000               \n",
      "order                1.000                1.000                1.000                1.000                1.000               \n",
      "and/or               1.000                1.000                1.000                1.000                1.000               \n",
      "IUEN                 0.000                0.000                1.000                1.000                1.000               \n",
      "keywords             1.000                1.000                1.000                1.000                1.000               \n",
      "---------------------- PARTIAL MATCHING F1 --------------------------\n",
      "select               1.000                1.000                1.000                1.000                1.000               \n",
      "select(no AGG)       1.000                1.000                1.000                1.000                1.000               \n",
      "where                1.000                1.000                1.000                1.000                1.000               \n",
      "where(no OP)         1.000                1.000                1.000                1.000                1.000               \n",
      "group(no Having)     1.000                1.000                1.000                1.000                1.000               \n",
      "group                1.000                1.000                1.000                1.000                1.000               \n",
      "order                1.000                1.000                1.000                1.000                1.000               \n",
      "and/or               1.000                1.000                1.000                1.000                1.000               \n",
      "IUEN                 1.000                1.000                1.000                1.000                1.000               \n",
      "keywords             1.000                1.000                1.000                1.000                1.000               \n"
     ]
    }
   ],
   "source": [
    "\n",
    "\n",
    "sp.evaluate(gold=GOLD , predict=PREDICT, db_dir=DB_DIR, etype=ETYPE, kmaps=KMAPS)"
   ]
  },
  {
   "cell_type": "code",
   "execution_count": null,
   "metadata": {},
   "outputs": [],
   "source": []
  }
 ],
 "metadata": {
  "kernelspec": {
   "display_name": "unrc-cs-thesis",
   "language": "python",
   "name": "python3"
  },
  "language_info": {
   "codemirror_mode": {
    "name": "ipython",
    "version": 3
   },
   "file_extension": ".py",
   "mimetype": "text/x-python",
   "name": "python",
   "nbconvert_exporter": "python",
   "pygments_lexer": "ipython3",
   "version": "3.12.9"
  }
 },
 "nbformat": 4,
 "nbformat_minor": 2
}
