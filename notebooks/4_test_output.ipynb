{
 "cells": [
  {
   "cell_type": "code",
   "execution_count": 1,
   "metadata": {},
   "outputs": [],
   "source": [
    "%run ../utils/init_env.py"
   ]
  },
  {
   "cell_type": "code",
   "execution_count": 2,
   "metadata": {},
   "outputs": [],
   "source": [
    "import sqlite3\n",
    "import json\n",
    "import os\n",
    "import pandas as pd\n",
    "import nltk"
   ]
  },
  {
   "cell_type": "code",
   "execution_count": 8,
   "metadata": {},
   "outputs": [],
   "source": [
    "DB_PATH = \"/Users/atissera/Developer/repos/unrc-cs-thesis/spider_data/test_database\"\n",
    "GOLD_SQL = \"/Users/atissera/Developer/repos/unrc-cs-thesis/data/gold_queries_benchmark.sql\"\n",
    "PRED_SQL = \"/Users/atissera/Developer/repos/unrc-cs-thesis/data/predicted_queries_benchmark.sql\""
   ]
  },
  {
   "cell_type": "code",
   "execution_count": 16,
   "metadata": {},
   "outputs": [],
   "source": [
    "with open(GOLD_SQL) as f:\n",
    "    glist = [l.strip().split('\\t') for l in f.readlines() if len(l.strip()) > 0]\n",
    "\n",
    "with open(PRED_SQL) as f:\n",
    "    plist = [l.strip().split('\\t') for l in f.readlines() if len(l.strip()) > 0]"
   ]
  },
  {
   "cell_type": "code",
   "execution_count": 19,
   "metadata": {},
   "outputs": [
    {
     "data": {
      "text/plain": [
       "[['SELECT s.student_id, s.bio_data, s.student_details FROM Students s JOIN (SELECT b.student_id, COUNT(*) AS COUNT, b.behaviour_monitoring_details FROM Behaviour_Monitoring b GROUP BY b.student_id, b.behaviour_monitoring_details) AS m ON s.student_id = m.student_id WHERE m.COUNT = (SELECT MAX(COUNT) FROM (SELECT b.student_id, COUNT(*) AS COUNT, b.behaviour_monitoring_details FROM Behaviour_Monitoring b GROUP BY b.student_id, b.behaviour_monitoring_details)) ORDER BY s.student_id NULLS LAST']]"
      ]
     },
     "execution_count": 19,
     "metadata": {},
     "output_type": "execute_result"
    }
   ],
   "source": [
    "plist"
   ]
  },
  {
   "cell_type": "code",
   "execution_count": 20,
   "metadata": {},
   "outputs": [
    {
     "name": "stdout",
     "output_type": "stream",
     "text": [
      "\n",
      "📌 Database: cre_Students_Information_Systems\n",
      "🔹 Predicted Query:\n",
      "SELECT s.student_id, s.bio_data, s.student_details FROM Students s JOIN (SELECT b.student_id, COUNT(*) AS COUNT, b.behaviour_monitoring_details FROM Behaviour_Monitoring b GROUP BY b.student_id, b.behaviour_monitoring_details) AS m ON s.student_id = m.student_id WHERE m.COUNT = (SELECT MAX(COUNT) FROM (SELECT b.student_id, COUNT(*) AS COUNT, b.behaviour_monitoring_details FROM Behaviour_Monitoring b GROUP BY b.student_id, b.behaviour_monitoring_details)) ORDER BY s.student_id NULLS LAST\n",
      "🔸 Gold Query:\n",
      "select t1.bio_data from students as t1 join behaviour_monitoring as t2 on t1.student_id  =  t2.student_id where t2.behaviour_monitoring_details in ( select behaviour_monitoring_details from behaviour_monitoring group by behaviour_monitoring_details order by count(*) desc limit 1 ) except select t1.bio_data from students as t1 join behaviour_monitoring as t2 on t1.student_id  =  t2.student_id where t2.behaviour_monitoring_details not in ( select behaviour_monitoring_details from behaviour_monitoring group by behaviour_monitoring_details order by count(*) desc limit 1 )\n",
      "\n",
      "📊 Predicted Result:\n"
     ]
    },
    {
     "data": {
      "text/html": [
       "<div>\n",
       "<style scoped>\n",
       "    .dataframe tbody tr th:only-of-type {\n",
       "        vertical-align: middle;\n",
       "    }\n",
       "\n",
       "    .dataframe tbody tr th {\n",
       "        vertical-align: top;\n",
       "    }\n",
       "\n",
       "    .dataframe thead th {\n",
       "        text-align: right;\n",
       "    }\n",
       "</style>\n",
       "<table border=\"1\" class=\"dataframe\">\n",
       "  <thead>\n",
       "    <tr style=\"text-align: right;\">\n",
       "      <th></th>\n",
       "      <th>student_id</th>\n",
       "      <th>bio_data</th>\n",
       "      <th>student_details</th>\n",
       "    </tr>\n",
       "  </thead>\n",
       "  <tbody>\n",
       "    <tr>\n",
       "      <th>0</th>\n",
       "      <td>435</td>\n",
       "      <td>Vanessa</td>\n",
       "      <td>Suite 684</td>\n",
       "    </tr>\n",
       "    <tr>\n",
       "      <th>1</th>\n",
       "      <td>648</td>\n",
       "      <td>Leonard</td>\n",
       "      <td>Suite 505</td>\n",
       "    </tr>\n",
       "  </tbody>\n",
       "</table>\n",
       "</div>"
      ],
      "text/plain": [
       "   student_id bio_data student_details\n",
       "0         435  Vanessa       Suite 684\n",
       "1         648  Leonard       Suite 505"
      ]
     },
     "metadata": {},
     "output_type": "display_data"
    },
    {
     "name": "stdout",
     "output_type": "stream",
     "text": [
      "📊 Gold Result:\n"
     ]
    },
    {
     "data": {
      "text/html": [
       "<div>\n",
       "<style scoped>\n",
       "    .dataframe tbody tr th:only-of-type {\n",
       "        vertical-align: middle;\n",
       "    }\n",
       "\n",
       "    .dataframe tbody tr th {\n",
       "        vertical-align: top;\n",
       "    }\n",
       "\n",
       "    .dataframe thead th {\n",
       "        text-align: right;\n",
       "    }\n",
       "</style>\n",
       "<table border=\"1\" class=\"dataframe\">\n",
       "  <thead>\n",
       "    <tr style=\"text-align: right;\">\n",
       "      <th></th>\n",
       "      <th>bio_data</th>\n",
       "    </tr>\n",
       "  </thead>\n",
       "  <tbody>\n",
       "    <tr>\n",
       "      <th>0</th>\n",
       "      <td>Felipa</td>\n",
       "    </tr>\n",
       "    <tr>\n",
       "      <th>1</th>\n",
       "      <td>Pansy</td>\n",
       "    </tr>\n",
       "    <tr>\n",
       "      <th>2</th>\n",
       "      <td>Vanessa</td>\n",
       "    </tr>\n",
       "  </tbody>\n",
       "</table>\n",
       "</div>"
      ],
      "text/plain": [
       "  bio_data\n",
       "0   Felipa\n",
       "1    Pansy\n",
       "2  Vanessa"
      ]
     },
     "metadata": {},
     "output_type": "display_data"
    },
    {
     "name": "stdout",
     "output_type": "stream",
     "text": [
      "❌ Results do not match.\n"
     ]
    }
   ],
   "source": [
    "import os\n",
    "import sqlite3\n",
    "import pandas as pd\n",
    "\n",
    "for pred, gold in zip(plist, glist):\n",
    "    db_id = gold[-1]\n",
    "    pred_query = pred[0]\n",
    "    gold_query = gold[0]\n",
    "    db_file = os.path.join(DB_PATH, db_id, db_id + \".sqlite\")\n",
    "\n",
    "    if not os.path.exists(db_file):\n",
    "        print(f\"❌ Database file not found: {db_file}\")\n",
    "        continue\n",
    "\n",
    "    try:\n",
    "        conn = sqlite3.connect(db_file)\n",
    "        cursor = conn.cursor()\n",
    "\n",
    "        # Run predicted query\n",
    "        cursor.execute(pred_query)\n",
    "        pred_columns = [desc[0] for desc in cursor.description]\n",
    "        pred_rows = cursor.fetchall()\n",
    "        pred_df = pd.DataFrame(pred_rows, columns=pred_columns)\n",
    "\n",
    "        # Run gold query\n",
    "        cursor.execute(gold_query)\n",
    "        gold_columns = [desc[0] for desc in cursor.description]\n",
    "        gold_rows = cursor.fetchall()\n",
    "        gold_df = pd.DataFrame(gold_rows, columns=gold_columns)\n",
    "\n",
    "        conn.close()\n",
    "\n",
    "        # Sort and reset index for fair comparison\n",
    "        pred_df_sorted = pred_df.sort_values(by=pred_columns, axis=0).reset_index(drop=True)\n",
    "        gold_df_sorted = gold_df.sort_values(by=gold_columns, axis=0).reset_index(drop=True)\n",
    "\n",
    "        # Compare\n",
    "        is_equal = pred_df_sorted.equals(gold_df_sorted)\n",
    "\n",
    "        print(f\"\\n📌 Database: {db_id}\")\n",
    "        print(\"🔹 Predicted Query:\")\n",
    "        print(pred_query)\n",
    "        print(\"🔸 Gold Query:\")\n",
    "        print(gold_query)\n",
    "\n",
    "        print(\"\\n📊 Predicted Result:\")\n",
    "        display(pred_df)\n",
    "        print(\"📊 Gold Result:\")\n",
    "        display(gold_df)\n",
    "\n",
    "        if is_equal:\n",
    "            print(\"✅ Predicted and Gold results match.\")\n",
    "        else:\n",
    "            print(\"❌ Results do not match.\")\n",
    "\n",
    "    except Exception as e:\n",
    "        print(f\"❌ Error running queries on {db_id}\")\n",
    "        print(e)"
   ]
  },
  {
   "cell_type": "code",
   "execution_count": null,
   "metadata": {},
   "outputs": [],
   "source": []
  }
 ],
 "metadata": {
  "kernelspec": {
   "display_name": "unrc-cs-thesis",
   "language": "python",
   "name": "python3"
  },
  "language_info": {
   "codemirror_mode": {
    "name": "ipython",
    "version": 3
   },
   "file_extension": ".py",
   "mimetype": "text/x-python",
   "name": "python",
   "nbconvert_exporter": "python",
   "pygments_lexer": "ipython3",
   "version": "3.12.9"
  }
 },
 "nbformat": 4,
 "nbformat_minor": 2
}
