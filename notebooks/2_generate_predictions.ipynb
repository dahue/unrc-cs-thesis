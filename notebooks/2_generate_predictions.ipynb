{
 "cells": [
  {
   "cell_type": "code",
   "execution_count": 7,
   "metadata": {},
   "outputs": [],
   "source": [
    "%run ../utils/init_env.py"
   ]
  },
  {
   "cell_type": "code",
   "execution_count": null,
   "metadata": {},
   "outputs": [
    {
     "name": "stdout",
     "output_type": "stream",
     "text": [
      "http://Adrians-Mac-mini.local:12345/v1/chat/completions\n"
     ]
    }
   ],
   "source": [
    "import requests\n",
    "import config\n",
    "import json\n",
    "import random\n",
    "import re\n",
    "import os\n",
    "from typing import List, Dict\n",
    "from concurrent.futures import ThreadPoolExecutor\n",
    "\n",
    "# Configuration\n",
    "API_URL = config.get_model_config()['api_url']\n",
    "print(API_URL)"
   ]
  },
  {
   "cell_type": "code",
   "execution_count": 9,
   "metadata": {},
   "outputs": [],
   "source": [
    "# List of models available\n",
    "# llama-3.2-1b,\n",
    "# phi-4, (14b)\n",
    "# deepseek-r1-distill-qwen-32b,"
   ]
  },
  {
   "cell_type": "code",
   "execution_count": null,
   "metadata": {},
   "outputs": [],
   "source": [
    "def normalize_sql(sql: str) -> str:\n",
    "    sql = re.sub(r\"```sql|```|<\\|eot_id\\|>|<\\|im_end\\|>\", \"\", sql, flags=re.IGNORECASE).strip()\n",
    "    sql = sql.replace(\";\", \"\")\n",
    "    sql = re.sub(r\"\\s+\", \" \", sql).strip()\n",
    "    return sql\n",
    "\n",
    "def send_prompt(message: str) -> str:\n",
    "    \"\"\"\n",
    "    Send a single prompt to LMStudio with an optional system prompt and return the response\n",
    "    \"\"\"\n",
    "    options = {\n",
    "        'model': 'phi-4',\n",
    "        'temperature': 0.2,\n",
    "    }\n",
    "\n",
    "    headers = config.get_model_config()['headers']()\n",
    "    \n",
    "    payload = {\n",
    "        'model': options['model'],\n",
    "        'messages': [{\"role\": \"user\", \"content\": message}],\n",
    "        'temperature': options['temperature'],\n",
    "    }\n",
    "    \n",
    "    try:\n",
    "        response = requests.post(API_URL, headers=headers, json=payload)\n",
    "        response.raise_for_status()\n",
    "        return response.json()[\"choices\"][0][\"message\"][\"content\"].strip()\n",
    "    except requests.exceptions.RequestException as e:\n",
    "        print(f\"Error connecting to LMStudio: {e}\")\n",
    "        return None\n",
    "\n",
    "def evaluate_single_prompt(prompt: str, expected: str) -> Dict:\n",
    "    actual_response = send_prompt(prompt)\n",
    "\n",
    "    if actual_response is None:\n",
    "        return {\n",
    "            \"prompt\": prompt,\n",
    "            \"expected\": expected,\n",
    "            \"actual\": None,\n",
    "            \"match\": False\n",
    "        }\n",
    "\n",
    "    actual_response = normalize_sql(actual_response)\n",
    "    is_match = actual_response.lower() == expected.lower()\n",
    "\n",
    "    return {\n",
    "        \"prompt\": prompt,\n",
    "        \"expected\": expected,\n",
    "        \"actual\": actual_response,\n",
    "        \"match\": is_match\n",
    "    }\n",
    "\n",
    "def evaluate_prompts(prompts: List[str], expected_responses: List[str]) -> Dict:\n",
    "    if len(prompts) != len(expected_responses):\n",
    "        raise ValueError(\"Number of prompts must match number of expected responses\")\n",
    "\n",
    "    results = {\n",
    "        \"total_prompts\": len(prompts),\n",
    "        \"successful_matches\": 0,\n",
    "        \"responses\": []\n",
    "    }\n",
    "\n",
    "    with ThreadPoolExecutor(max_workers=4) as executor:\n",
    "        all_results = list(executor.map(\n",
    "            evaluate_single_prompt,\n",
    "            prompts,\n",
    "            expected_responses\n",
    "        ))\n",
    "\n",
    "    for res in all_results:\n",
    "        results[\"responses\"].append(res)\n",
    "        if res[\"match\"]:\n",
    "            results[\"successful_matches\"] += 1\n",
    "\n",
    "    results[\"accuracy\"] = results[\"successful_matches\"] / results[\"total_prompts\"] * 100\n",
    "    return results"
   ]
  },
  {
   "cell_type": "code",
   "execution_count": 31,
   "metadata": {},
   "outputs": [],
   "source": [
    "with open(os.path.join(config.DATA_DIR, \"prompts.json\"), 'r', encoding='utf-8') as f:\n",
    "    prompts = json.load(f)\n",
    "\n",
    "random.seed(42)\n",
    "sample_size = 100\n",
    "sampled_test_data = random.sample(prompts, sample_size)\n",
    "# sampled_test_data = prompts\n",
    "\n",
    "test_prompts = [sample['prompt'] for sample in sampled_test_data]\n",
    "expected_responses = [sample['gold_sql'] for sample in sampled_test_data]"
   ]
  },
  {
   "cell_type": "code",
   "execution_count": 32,
   "metadata": {},
   "outputs": [],
   "source": [
    "results = evaluate_prompts(test_prompts, expected_responses)"
   ]
  },
  {
   "cell_type": "code",
   "execution_count": 33,
   "metadata": {},
   "outputs": [],
   "source": [
    "predicted_sql = [e['actual'] for e in results['responses']]\n",
    "gold_sql = [e['expected'] for e in results['responses']]"
   ]
  },
  {
   "cell_type": "code",
   "execution_count": 34,
   "metadata": {},
   "outputs": [],
   "source": [
    "# Save output\n",
    "with open(config.PREDICTED_SQL, \"w\", encoding=\"utf-8\") as f:\n",
    "    for query in predicted_sql:\n",
    "        f.write(query + \"\\n\")\n",
    "\n",
    "with open(config.GOLD_SQL, \"w\", encoding=\"utf-8\") as f:\n",
    "    for query, entry in zip(gold_sql, sampled_test_data):\n",
    "        f.write(f'{query}\\t{entry['db']}\\n')"
   ]
  },
  {
   "cell_type": "code",
   "execution_count": null,
   "metadata": {},
   "outputs": [],
   "source": [
    "# # Display results\n",
    "# print(f\"Evaluation Results:\")\n",
    "# print(f\"Total Prompts: {results['total_prompts']}\")\n",
    "# print(f\"Successful Matches: {results['successful_matches']}\")\n",
    "# print(f\"Accuracy: {results['accuracy']:.2f}%\")\n",
    "# print(\"\\nDetailed Results:\")\n",
    "\n",
    "# for result in results['responses']:\n",
    "#     print(f\"\\nPrompt: {json.dumps(result['prompt'])}\")\n",
    "#     print(f\"Expected: {result['expected']}\")\n",
    "#     print(f\"Actual: {result['actual']}\")\n",
    "#     print(f\"Match: {result['match']}\")\n",
    "#     print(\"-\" * 80)"
   ]
  },
  {
   "cell_type": "code",
   "execution_count": null,
   "metadata": {},
   "outputs": [],
   "source": []
  }
 ],
 "metadata": {
  "kernelspec": {
   "display_name": "unrc-cs-thesis",
   "language": "python",
   "name": "python3"
  },
  "language_info": {
   "codemirror_mode": {
    "name": "ipython",
    "version": 3
   },
   "file_extension": ".py",
   "mimetype": "text/x-python",
   "name": "python",
   "nbconvert_exporter": "python",
   "pygments_lexer": "ipython3",
   "version": "3.12.9"
  }
 },
 "nbformat": 4,
 "nbformat_minor": 2
}
