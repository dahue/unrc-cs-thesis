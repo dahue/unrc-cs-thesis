{
 "cells": [
  {
   "cell_type": "code",
   "execution_count": 72,
   "metadata": {},
   "outputs": [],
   "source": [
    "%run ../utils/init_env.py"
   ]
  },
  {
   "cell_type": "code",
   "execution_count": 83,
   "metadata": {},
   "outputs": [
    {
     "name": "stdout",
     "output_type": "stream",
     "text": [
      "http://127.0.0.1:52415/v1/chat/completions\n"
     ]
    }
   ],
   "source": [
    "import requests\n",
    "import config\n",
    "import json\n",
    "import random\n",
    "import re\n",
    "from typing import List, Dict\n",
    "\n",
    "# Configuration\n",
    "LMSTUDIO_API_URL = config.get_model_config()['api_url']\n",
    "print(LMSTUDIO_API_URL)"
   ]
  },
  {
   "cell_type": "code",
   "execution_count": 74,
   "metadata": {},
   "outputs": [
    {
     "data": {
      "text/plain": [
       "'llama-3.2-1b'"
      ]
     },
     "execution_count": 74,
     "metadata": {},
     "output_type": "execute_result"
    }
   ],
   "source": [
    "\n",
    "config.get_model_config()['default_model']"
   ]
  },
  {
   "cell_type": "code",
   "execution_count": 100,
   "metadata": {},
   "outputs": [],
   "source": [
    "def normalize_sql(sql: str) -> str:\n",
    "    sql = re.sub(r\"```sql|```|<\\|eot_id\\|>\", \"\", sql, flags=re.IGNORECASE).strip()\n",
    "    sql = sql.replace(\";\", \"\")\n",
    "    sql = re.sub(r\"\\s+\", \" \", sql).strip()\n",
    "    return sql\n",
    "\n",
    "def send_prompt_to_lmstudio(messages: list, max_tokens: int = 500) -> str:\n",
    "    \"\"\"\n",
    "    Send a single prompt to LMStudio with an optional system prompt and return the response\n",
    "    \"\"\"\n",
    "    headers = config.get_model_config()['headers']()\n",
    "    \n",
    "    # payload = {\n",
    "    #     \"prompt\": full_prompt,\n",
    "    #     \"max_tokens\": max_tokens,\n",
    "    #     \"temperature\": 0.7,  # Adjust as needed\n",
    "    #     \"top_p\": 1.0\n",
    "    # }\n",
    "    payload = {\n",
    "        'model': 'llama-3.2-1b',\n",
    "        # 'model': 'phi-4',\n",
    "        'messages': messages,\n",
    "        'temperature': '0.7',\n",
    "        \"max_tokens\": max_tokens,\n",
    "    }\n",
    "    \n",
    "    try:\n",
    "        response = requests.post(LMSTUDIO_API_URL, headers=headers, json=payload)\n",
    "        response.raise_for_status()\n",
    "        return response.json()[\"choices\"][0][\"message\"][\"content\"].strip()\n",
    "    except requests.exceptions.RequestException as e:\n",
    "        print(f\"Error connecting to LMStudio: {e}\")\n",
    "        return None\n",
    "\n",
    "def evaluate_prompts(prompts: List[str], expected_responses: List[str]) -> Dict:\n",
    "    \"\"\"\n",
    "    Evaluate multiple prompts with an optional system prompt and compare with expected responses\n",
    "    \"\"\"\n",
    "    results = {\n",
    "        \"total_prompts\": len(prompts),\n",
    "        \"successful_matches\": 0,\n",
    "        \"responses\": []\n",
    "    }\n",
    "    \n",
    "    if len(prompts) != len(expected_responses):\n",
    "        raise ValueError(\"Number of prompts must match number of expected responses\")\n",
    "    \n",
    "    for i, (prompt, expected) in enumerate(zip(prompts, expected_responses)):\n",
    "        # Send prompt to LLM with system prompt\n",
    "        actual_response = send_prompt_to_lmstudio([prompt])\n",
    "        \n",
    "        if actual_response is None:\n",
    "            continue\n",
    "\n",
    "        actual_response = normalize_sql(actual_response)\n",
    "        \n",
    "        # Simple comparison (case-insensitive exact match)\n",
    "        is_match = actual_response.lower() == expected.lower()\n",
    "        if is_match:\n",
    "            results[\"successful_matches\"] += 1\n",
    "            \n",
    "        # Store detailed results\n",
    "        results[\"responses\"].append({\n",
    "            \"prompt\": prompt,\n",
    "            \"expected\": expected,\n",
    "            \"actual\": actual_response,\n",
    "            \"match\": is_match\n",
    "        })\n",
    "    \n",
    "    # Calculate accuracy\n",
    "    results[\"accuracy\"] = results[\"successful_matches\"] / results[\"total_prompts\"] * 100\n",
    "    return results"
   ]
  },
  {
   "cell_type": "code",
   "execution_count": 101,
   "metadata": {},
   "outputs": [],
   "source": [
    "with open(os.path.join(config.PREPROCESSED_JSON), 'r', encoding='utf-8') as f:\n",
    "    gold_sql_queries = [e['gold_sql'] for e in json.load(f)]\n",
    "\n",
    "with open(os.path.join(config.PROMPTS_JSON), 'r', encoding='utf-8') as f:\n",
    "    prompts = [{'role': 'user', 'content': prompt} for prompt in json.load(f)]\n",
    "\n",
    "random.seed(42)\n",
    "sample_size = 5\n",
    "sampled_test_data = random.sample(list(zip(prompts, gold_sql_queries)), sample_size)\n",
    "\n",
    "test_prompts = [sample[0] for sample in sampled_test_data]\n",
    "expected_responses = [sample[1] for sample in sampled_test_data]\n",
    "\n",
    "# # Run evaluation\n",
    "# # results = evaluate_prompts(test_prompts, expected_responses)\n",
    "# for prompt, exp_response in sampled_test_data:\n",
    "#     print(f'EXPECTED:  {exp_response}')\n",
    "#     print(f'PREDICTED: {send_prompt_to_lmstudio([prompt])}')\n",
    "#     print()\n",
    "\n",
    "results = evaluate_prompts(test_prompts, expected_responses)"
   ]
  },
  {
   "cell_type": "code",
   "execution_count": 102,
   "metadata": {},
   "outputs": [
    {
     "name": "stdout",
     "output_type": "stream",
     "text": [
      "Evaluation Results:\n",
      "Total Prompts: 5\n",
      "Successful Matches: 1\n",
      "Accuracy: 20.00%\n",
      "\n",
      "Detailed Results:\n",
      "\n",
      "Prompt: {'role': 'user', 'content': '### Answer the question by SQLite SQL query only and with no explanation. You must minimize SQL execution time while ensuring correctness.\\n### Sqlite SQL tables, with their properties:\\n#\\n# Students(student_id, bio_data, student_details)\\n# Transcripts(transcript_id, student_id, date_of_transcript, transcript_details)\\n# Behaviour_Monitoring(behaviour_monitoring_id, student_id, behaviour_monitoring_details)\\n# Addresses(address_id, address_details)\\n# Ref_Event_Types(event_type_code, event_type_description)\\n# Ref_Achievement_Type(achievement_type_code, achievement_type_description)\\n# Ref_Address_Types(address_type_code, address_type_description)\\n# Ref_Detention_Type(detention_type_code, detention_type_description)\\n# Student_Events(event_id, event_type_code, student_id, event_date, other_details)\\n# Teachers(teacher_id, teacher_details)\\n# Student_Loans(student_loan_id, student_id, date_of_loan, amount_of_loan, other_details)\\n# Classes(class_id, student_id, teacher_id, class_details)\\n# Students_Addresses(student_address_id, address_id, address_type_code, student_id, date_from, date_to)\\n# Detention(detention_id, detention_type_code, student_id, datetime_detention_start, datetime_detention_end, detention_summary, other_details)\\n# Achievements(achievement_id, achievement_type_code, student_id, date_achievement, achievement_details, other_details)\\n#\\n### Here is some data information about database references.\\n#\\n# Students(student_id[276, 287, 325], bio_data[Camila, Dino, Pansy], student_details[Suite 076, Suite 970, Apt. 149])\\n# Transcripts(transcript_id[131, 138, 145], student_id[669, 824, 361], date_of_transcript[1973-08-09 00:00:00.000, 1973-11-05 00:00:00.000, 2002-11-23 00:00:00.000], transcript_details[Good, Good, Good])\\n# Behaviour_Monitoring(behaviour_monitoring_id[142, 220, 248], student_id[435, 811, 567], behaviour_monitoring_details[A, A, A])\\n# Addresses(address_id[0, 4, 5], address_details[607 Nikita Cape Suite 449, 4474 Dina Park, 19571 Garrett Manor])\\n# Ref_Event_Types(event_type_code[Exam, Registration], event_type_description[Exam, Registration])\\n# Ref_Achievement_Type(achievement_type_code[Athletic, Scholastic], achievement_type_description[Athletic, Scholastic])\\n# Ref_Address_Types(address_type_code[CO, HM], address_type_description[College, Home])\\n# Ref_Detention_Type(detention_type_code[After School, Break, Illness], detention_type_description[After School, On break, Leave for illness])\\n# Student_Events(event_id[146, 161, 189], event_type_code[Exam, Exam, Exam], student_id[287, 777, 361], event_date[2008-08-15 22:16:17.000, 2014-07-15 18:18:15.000, 2013-04-14 04:14:10.000], other_details[, , ])\\n# Teachers(teacher_id[115, 127, 164], teacher_details[Jon, Tyson, Trinity])\\n# Student_Loans(student_loan_id[165, 169, 188], student_id[777, 669, 777], date_of_loan[1980-01-06 00:00:00.000, 1991-03-24 00:00:00.000, 1983-08-01 00:00:00.000], amount_of_loan[2216.15, 5223.18, 3221.49], other_details[None, None, None])\\n# Classes(class_id[114, 195, 235], student_id[435, 471, 811], teacher_id[253, 274, 282], class_details[databases, english, writing])\\n# Students_Addresses(student_address_id[11, 15, 20], address_id[94, 76, 97], address_type_code[HM, HM, CO], student_id[984, 415, 777], date_from[2011-06-29 09:45:39.000, 2011-10-04 09:58:41.000, 2015-02-01 00:20:42.000], date_to[2018-03-22 07:50:48.000, 2018-03-14 18:32:37.000, 2018-03-04 09:58:38.000])\\n# Detention(detention_id[133, 141, 211], detention_type_code[Lunch, After School, Break], student_id[361, 811, 762], datetime_detention_start[2012-03-18 09:49:33.000, 2012-06-07 15:01:05.000, 2011-04-24 17:23:32.000], datetime_detention_end[2011-09-15 05:58:59.000, 2009-05-23 17:33:31.000, 2013-09-06 15:49:53.000], detention_summary[None, None, None], other_details[None, None, None])\\n# Achievements(achievement_id[153, 159, 262], achievement_type_code[Athletic, Athletic, Scholastic], student_id[777, 415, 415], date_achievement[2013, 2013, 2014], achievement_details[Gold, Gold, Gold], other_details[None, None, None])\\n#\\n### Foreign key information of SQLite tables, used for table joins:\\n#\\n# Transcripts(student_id) REFERENCES Students(student_id)\\n# Behaviour_Monitoring(student_id) REFERENCES Students(student_id)\\n# Student_Events(event_type_code) REFERENCES Ref_Event_Types(event_type_code)\\n# Student_Events(student_id) REFERENCES Students(student_id)\\n# Student_Loans(student_id) REFERENCES Students(student_id)\\n# Classes(teacher_id) REFERENCES Teachers(teacher_id)\\n# Classes(student_id) REFERENCES Students(student_id)\\n# Students_Addresses(address_type_code) REFERENCES Ref_Address_Types(address_type_code)\\n# Students_Addresses(address_id) REFERENCES Addresses(address_id)\\n# Students_Addresses(student_id) REFERENCES Students(student_id)\\n# Detention(detention_type_code) REFERENCES Ref_Detention_Type(detention_type_code)\\n# Detention(student_id) REFERENCES Students(student_id)\\n# Achievements(achievement_type_code) REFERENCES Ref_Achievement_Type(achievement_type_code)\\n# Achievements(student_id) REFERENCES Students(student_id)\\n#\\n### Some example pairs of questions and corresponding SQL queries are provided based on similar questions:\\n### How many farms are there?\\nSELECT count(*) FROM farm\\n### What is the average, minimum, and maximum age for all French singers?\\nSELECT avg(age) ,  min(age) ,  max(age) FROM singer WHERE country  =  \\'France\\'\\n### Show the ID of the high schooler named Kyle.\\nSELECT ID FROM Highschooler WHERE name  =  \"Kyle\"\\n### What are the address details and biographical information of each student?\\n'}\n",
      "Expected: SELECT T1.address_details ,  T3.bio_data FROM Addresses AS T1 JOIN Students_Addresses AS T2 ON T1.address_id  =  T2.address_id JOIN Students AS T3 ON T2.student_id  =  T3.student_id\n",
      "Actual: SELECT S.student_id, S.bio_data, S.student_details, ST.bio_data AS student_details, ST.bio_data AS student_details2, ST.bio_data AS student_details3 FROM Students S JOIN Transcripts T ON S.student_id = T.student_id JOIN Students_Addresses SA ON S.student_id = SA.student_id JOIN Addresses A ON SA.address_id = A.address_id JOIN Detention D ON S.student_id = D.student_id JOIN Achievements A2 ON S.student_id = A2.student_id JOIN Behaviour_Monitoring B ON S.student_id = B.student_id JOIN Student_Events SE ON S.student_id = SE.student_id JOIN Students_Loans SL ON S.student_id = SL.student_id JOIN Detention_Loans DL ON S.student_id = DL.student_id JOIN Achievements2 A3 ON S.student_id = A3.student_id JOIN Behaviour_Monitoring2 BM ON S.student_id = BM.student_id JOIN Student_Events2 SE2 ON S.student_id = SE2.student_id JOIN Detention2 D2 ON S.student_id = D2.student_id JOIN Achievements3 A3_2 ON S.student_id = A3_2.student_id JOIN Behaviour_Monitoring3 BM3 ON S.student_id = BM3.student_id JOIN Student_Events3 SE3 ON S.student_id = SE3.student_id JOIN Detention3 D3 ON S.student_id = D3.student_id JOIN Achievements4 A4 ON S.student_id = A4.student_id WHERE S.student_id IN ( SELECT student_id FROM Detention )\n",
      "Match: False\n",
      "--------------------------------------------------------------------------------\n",
      "\n",
      "Prompt: {'role': 'user', 'content': '### Answer the question by SQLite SQL query only and with no explanation. You must minimize SQL execution time while ensuring correctness.\\n### Sqlite SQL tables, with their properties:\\n#\\n# Products(product_id, parent_product_id, product_name, product_price, product_color, product_size, product_description)\\n# Customers(customer_id, gender_code, customer_first_name, customer_middle_initial, customer_last_name, email_address, login_name, login_password, phone_number, address_line_1, town_city, county, country)\\n# Customer_Payment_Methods(customer_id, payment_method_code)\\n# Invoices(invoice_number, invoice_status_code, invoice_date)\\n# Orders(order_id, customer_id, order_status_code, date_order_placed)\\n# Order_Items(order_item_id, product_id, order_id, order_item_status_code)\\n# Shipments(shipment_id, order_id, invoice_number, shipment_tracking_number, shipment_date)\\n# Shipment_Items(shipment_id, order_item_id)\\n#\\n### Here is some data information about database references.\\n#\\n# Products(product_id[1, 2, 3], parent_product_id[8, 3, 1], product_name[Dell monitor, Dell keyboard, iPhone6s], product_price[795.62, 104, 560.93], product_color[Red, Yellow, Red], product_size[Medium, Medium, Small], product_description[Latest model!, Keyboard for games!, Second hand!])\\n# Customers(customer_id[1, 2, 3], gender_code[Female, Male, Male], customer_first_name[Carmen, Jace, Vickie], customer_middle_initial[K, P, B], customer_last_name[Treutel, Mraz, Bergnaum], email_address[pgulgowski@example.com, zwisozk@example.org, herzog.imogene@example.org], login_name[murphy07, desmond.steuber, kihn.alfonso], login_password[58952d0e0d28de32db3b, 7ba2e47aa0904d9fbdbf, 83a1afbe21f5ca4cd2d5], phone_number[(253)336-6277, 628-468-4228x5917, 633-223-0975], address_line_1[646 Herzog Key Suite 702, 67899 Cassin Hollow Suite 071, 395 Christophe Trail], town_city[Port Madonnahaven, Port Korychester, Lornaland], county[Israel, Palau, Moldova], country[USA, USA, USA])\\n# Customer_Payment_Methods(customer_id[15, 1, 10], payment_method_code[Direct Debit, Direct Debit, Direct Debit])\\n# Invoices(invoice_number[1, 2, 3], invoice_status_code[Paid, Issued, Paid], invoice_date[2018-03-09 07:16:07, 2018-01-28 20:08:22, 2018-02-13 02:16:55])\\n# Orders(order_id[1, 2, 3], customer_id[5, 13, 13], order_status_code[Cancelled, Part Completed, Cancelled], date_order_placed[2017-09-17 16:13:07, 2017-10-14 12:05:48, 2017-09-10 08:27:04])\\n# Order_Items(order_item_id[1, 2, 3], product_id[4, 3, 2], order_id[8, 4, 7], order_item_status_code[Delivered, Out of Stock, Delivered])\\n# Shipments(shipment_id[1, 2, 3], order_id[7, 6, 9], invoice_number[5, 2, 4], shipment_tracking_number[6900, 3499, 5617], shipment_date[2018-02-28 00:04:11, 2018-03-07 01:57:14, 2018-03-18 22:23:19])\\n# Shipment_Items(shipment_id[4, 7, 15], order_item_id[4, 14, 9])\\n#\\n### Foreign key information of SQLite tables, used for table joins:\\n#\\n# Customer_Payment_Methods(customer_id) REFERENCES Customers(customer_id)\\n# Orders(customer_id) REFERENCES Customers(customer_id)\\n# Order_Items(order_id) REFERENCES Orders(order_id)\\n# Order_Items(product_id) REFERENCES Products(product_id)\\n# Shipments(order_id) REFERENCES Orders(order_id)\\n# Shipments(invoice_number) REFERENCES Invoices(invoice_number)\\n# Shipment_Items(order_item_id) REFERENCES Order_Items(order_item_id)\\n# Shipment_Items(shipment_id) REFERENCES Shipments(shipment_id)\\n#\\n### Some example pairs of questions and corresponding SQL queries are provided based on similar questions:\\n### How many farms are there?\\nSELECT count(*) FROM farm\\n### What is the average, minimum, and maximum age for all French singers?\\nSELECT avg(age) ,  min(age) ,  max(age) FROM singer WHERE country  =  \\'France\\'\\n### Show the ID of the high schooler named Kyle.\\nSELECT ID FROM Highschooler WHERE name  =  \"Kyle\"\\n### What is the product average price?\\n'}\n",
      "Expected: SELECT avg(product_price) FROM Products\n",
      "Actual: SELECT AVG(product_price) AS avg_product_price FROM Products\n",
      "Match: False\n",
      "--------------------------------------------------------------------------------\n",
      "\n",
      "Prompt: {'role': 'user', 'content': '### Answer the question by SQLite SQL query only and with no explanation. You must minimize SQL execution time while ensuring correctness.\\n### Sqlite SQL tables, with their properties:\\n#\\n# PilotSkills(pilot_name, plane_name, age)\\n# Hangar(plane_name, location)\\n#\\n### Here is some data information about database references.\\n#\\n# PilotSkills(pilot_name[Celko, Higgins, Higgins], plane_name[Piper Cub, B-52 Bomber, F-14 Fighter], age[23, 34, 50])\\n# Hangar(plane_name[B-1 Bomber, B-52 Bomber, F-14 Fighter], location[Chicago, Austin, Boston])\\n#\\n### Foreign key information of SQLite tables, used for table joins:\\n#\\n# PilotSkills(plane_name) REFERENCES Hangar(plane_name)\\n#\\n### Some example pairs of questions and corresponding SQL queries are provided based on similar questions:\\n### How many farms are there?\\nSELECT count(*) FROM farm\\n### What is the average, minimum, and maximum age for all French singers?\\nSELECT avg(age) ,  min(age) ,  max(age) FROM singer WHERE country  =  \\'France\\'\\n### Show the ID of the high schooler named Kyle.\\nSELECT ID FROM Highschooler WHERE name  =  \"Kyle\"\\n### Count the number of different plane names across all pilots.\\n'}\n",
      "Expected: SELECT count(DISTINCT plane_name) FROM pilotskills\n",
      "Actual: SELECT COUNT(DISTINCT plane_name) FROM PilotSkills\n",
      "Match: True\n",
      "--------------------------------------------------------------------------------\n",
      "\n",
      "Prompt: {'role': 'user', 'content': '### Answer the question by SQLite SQL query only and with no explanation. You must minimize SQL execution time while ensuring correctness.\\n### Sqlite SQL tables, with their properties:\\n#\\n# Affiliation(affiliation_id, name, address)\\n# Author(author_id, name, email)\\n# Author_list(paper_id, author_id, affiliation_id)\\n# Citation(paper_id, cited_paper_id)\\n# Paper(paper_id, title, venue, year)\\n#\\n### Here is some data information about database references.\\n#\\n# Affiliation(affiliation_id[0, 1, 2], name[20/20 Speech Ltd., 3SOFT GmbH, A-Life Medical, Inc.], address[Malvern UK, Erlangen Germany, San Diego CA])\\n# Author(author_id[0, 1, 2], name[, &#269, &#353], email[None, None, None])\\n# Author_list(paper_id[D15-1001, D15-1001, D15-1001], author_id[1233, 9573, 12785], affiliation_id[None, None, None])\\n# Citation(paper_id[C08-3004, D09-1141, D12-1027], cited_paper_id[A00-1002, A00-1002, A00-1002])\\n# Paper(paper_id[A00-1001, A00-1002, A00-1003], title[BusTUC - A Natural Language Bus Route Oracle, Machine Translation Of Very Close Languages, Cross-Language Multimedia Information Retrieval], venue[NAACL, NAACL, NAACL], year[2000, 2000, 2000])\\n#\\n### Foreign key information of SQLite tables, used for table joins:\\n#\\n# Author_list(affiliation_id) REFERENCES Affiliation(affiliation_id)\\n# Author_list(author_id) REFERENCES Author(author_id)\\n# Author_list(paper_id) REFERENCES Paper(paper_id)\\n# Citation(cited_paper_id) REFERENCES Paper(paper_id)\\n# Citation(paper_id) REFERENCES Paper(paper_id)\\n#\\n### Some example pairs of questions and corresponding SQL queries are provided based on similar questions:\\n### How many farms are there?\\nSELECT count(*) FROM farm\\n### What is the average, minimum, and maximum age for all French singers?\\nSELECT avg(age) ,  min(age) ,  max(age) FROM singer WHERE country  =  \\'France\\'\\n### Show the ID of the high schooler named Kyle.\\nSELECT ID FROM Highschooler WHERE name  =  \"Kyle\"\\n### How many reference papers does paper with id D12-1027 have?\\n'}\n",
      "Expected: SELECT count(*) FROM Citation WHERE paper_id  =  \"D12-1027\"\n",
      "Actual: SELECT COUNT(*) AS num_papers FROM paper JOIN citation ON paper.id = citation.paper_id JOIN author_list ON paper.id = author_list.paper_id JOIN affiliation ON author_list.affiliation_id = affiliation.id\n",
      "Match: False\n",
      "--------------------------------------------------------------------------------\n",
      "\n",
      "Prompt: {'role': 'user', 'content': '### Answer the question by SQLite SQL query only and with no explanation. You must minimize SQL execution time while ensuring correctness.\\n### Sqlite SQL tables, with their properties:\\n#\\n# Sailors(sid, name, rating, age)\\n# Boats(bid, name, color)\\n# Reserves(sid, bid, day)\\n#\\n### Here is some data information about database references.\\n#\\n# Sailors(sid[1, 2, 3], name[Eugene, Luis, Ken], rating[7, 2, 8], age[22, 39, 27])\\n# Boats(bid[101, 102, 103], name[Legacy, Melon, Mars], color[red, blue, red])\\n# Reserves(sid[1, 2, 2], bid[102, 102, 103], day[9/12, 9/13, 9/14])\\n#\\n### Foreign key information of SQLite tables, used for table joins:\\n#\\n# Reserves(bid) REFERENCES Boats(bid)\\n# Reserves(sid) REFERENCES Sailors(sid)\\n#\\n### Some example pairs of questions and corresponding SQL queries are provided based on similar questions:\\n### How many farms are there?\\nSELECT count(*) FROM farm\\n### What is the average, minimum, and maximum age for all French singers?\\nSELECT avg(age) ,  min(age) ,  max(age) FROM singer WHERE country  =  \\'France\\'\\n### Show the ID of the high schooler named Kyle.\\nSELECT ID FROM Highschooler WHERE name  =  \"Kyle\"\\n### What is the maximum rating for sailors?\\n'}\n",
      "Expected: SELECT max(rating) FROM Sailors\n",
      "Actual: SELECT COUNT(*) AS num_farms FROM farm SELECT AVG(age) AS avg_age, MIN(age) AS min_age, MAX(age) AS max_age FROM singer WHERE country = 'France' SELECT ID FROM Highschooler WHERE name = 'Kyle'\n",
      "Match: False\n",
      "--------------------------------------------------------------------------------\n"
     ]
    }
   ],
   "source": [
    "# Display results\n",
    "print(f\"Evaluation Results:\")\n",
    "print(f\"Total Prompts: {results['total_prompts']}\")\n",
    "print(f\"Successful Matches: {results['successful_matches']}\")\n",
    "print(f\"Accuracy: {results['accuracy']:.2f}%\")\n",
    "print(\"\\nDetailed Results:\")\n",
    "\n",
    "for result in results['responses']:\n",
    "    print(f\"\\nPrompt: {result['prompt']}\")\n",
    "    print(f\"Expected: {result['expected']}\")\n",
    "    print(f\"Actual: {result['actual']}\")\n",
    "    print(f\"Match: {result['match']}\")\n",
    "    print(\"-\" * 80)"
   ]
  },
  {
   "cell_type": "code",
   "execution_count": null,
   "metadata": {},
   "outputs": [],
   "source": []
  }
 ],
 "metadata": {
  "kernelspec": {
   "display_name": "unrc-cs-thesis",
   "language": "python",
   "name": "python3"
  },
  "language_info": {
   "codemirror_mode": {
    "name": "ipython",
    "version": 3
   },
   "file_extension": ".py",
   "mimetype": "text/x-python",
   "name": "python",
   "nbconvert_exporter": "python",
   "pygments_lexer": "ipython3",
   "version": "3.12.9"
  }
 },
 "nbformat": 4,
 "nbformat_minor": 2
}
