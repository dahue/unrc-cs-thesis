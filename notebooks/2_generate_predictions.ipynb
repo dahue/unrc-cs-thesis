{
 "cells": [
  {
   "cell_type": "code",
   "execution_count": 5,
   "metadata": {},
   "outputs": [],
   "source": [
    "%run ../utils/init_env.py"
   ]
  },
  {
   "cell_type": "code",
   "execution_count": 6,
   "metadata": {},
   "outputs": [
    {
     "name": "stdout",
     "output_type": "stream",
     "text": [
      "http://1.1.1.1:52415/v1/chat/completions\n"
     ]
    }
   ],
   "source": [
    "import requests\n",
    "import config\n",
    "import json\n",
    "import random\n",
    "import re\n",
    "import os\n",
    "from typing import List, Dict\n",
    "\n",
    "# Configuration\n",
    "LMSTUDIO_API_URL = config.get_model_config()['api_url']\n",
    "print(LMSTUDIO_API_URL)"
   ]
  },
  {
   "cell_type": "code",
   "execution_count": 7,
   "metadata": {},
   "outputs": [
    {
     "data": {
      "text/plain": [
       "'llama-3.2-1b'"
      ]
     },
     "execution_count": 7,
     "metadata": {},
     "output_type": "execute_result"
    }
   ],
   "source": [
    "\n",
    "config.get_model_config()['default_model']"
   ]
  },
  {
   "cell_type": "code",
   "execution_count": 8,
   "metadata": {},
   "outputs": [],
   "source": [
    "def normalize_sql(sql: str) -> str:\n",
    "    sql = re.sub(r\"```sql|```|<\\|eot_id\\|>|<\\|im_end\\|>\", \"\", sql, flags=re.IGNORECASE).strip()\n",
    "    sql = sql.replace(\";\", \"\")\n",
    "    sql = re.sub(r\"\\s+\", \" \", sql).strip()\n",
    "    return sql\n",
    "\n",
    "def send_prompt_to_lmstudio(messages: list, max_tokens: int = 500) -> str:\n",
    "    \"\"\"\n",
    "    Send a single prompt to LMStudio with an optional system prompt and return the response\n",
    "    \"\"\"\n",
    "    headers = config.get_model_config()['headers']()\n",
    "    \n",
    "    # payload = {\n",
    "    #     \"prompt\": full_prompt,\n",
    "    #     \"max_tokens\": max_tokens,\n",
    "    #     \"temperature\": 0.7,  # Adjust as needed\n",
    "    #     \"top_p\": 1.0\n",
    "    # }\n",
    "    payload = {\n",
    "        # 'model': 'llama-3.2-1b',\n",
    "        'model': 'phi-4',\n",
    "        'messages': messages,\n",
    "        'temperature': '0.1',\n",
    "    }\n",
    "    \n",
    "    try:\n",
    "        response = requests.post(LMSTUDIO_API_URL, headers=headers, json=payload)\n",
    "        response.raise_for_status()\n",
    "        return response.json()[\"choices\"][0][\"message\"][\"content\"].strip()\n",
    "    except requests.exceptions.RequestException as e:\n",
    "        print(f\"Error connecting to LMStudio: {e}\")\n",
    "        return None\n",
    "\n",
    "def evaluate_prompts(prompts: list[str], expected_responses: list[str]) -> dict:\n",
    "    \"\"\"\n",
    "    Evaluate multiple prompts with an optional system prompt and compare with expected responses\n",
    "    \"\"\"\n",
    "    results = {\n",
    "        \"total_prompts\": len(prompts),\n",
    "        \"successful_matches\": 0,\n",
    "        \"responses\": []\n",
    "    }\n",
    "    \n",
    "    if len(prompts) != len(expected_responses):\n",
    "        raise ValueError(\"Number of prompts must match number of expected responses\")\n",
    "    \n",
    "    for i, (prompt, expected) in enumerate(zip(prompts, expected_responses)):\n",
    "        # Send prompt to LLM with system prompt\n",
    "        actual_response = send_prompt_to_lmstudio([prompt])\n",
    "        \n",
    "        if actual_response is None:\n",
    "            continue\n",
    "\n",
    "        actual_response = normalize_sql(actual_response)\n",
    "        \n",
    "        # Simple comparison (case-insensitive exact match)\n",
    "        is_match = actual_response.lower() == expected.lower()\n",
    "        if is_match:\n",
    "            results[\"successful_matches\"] += 1\n",
    "            \n",
    "        # Store detailed results\n",
    "        results[\"responses\"].append({\n",
    "            \"prompt\": prompt,\n",
    "            \"expected\": expected,\n",
    "            \"actual\": actual_response,\n",
    "            \"match\": is_match\n",
    "        })\n",
    "    \n",
    "    # Calculate accuracy\n",
    "    results[\"accuracy\"] = results[\"successful_matches\"] / results[\"total_prompts\"] * 100\n",
    "    return results"
   ]
  },
  {
   "cell_type": "code",
   "execution_count": 9,
   "metadata": {},
   "outputs": [],
   "source": [
    "with open(os.path.join(config.PROMPTS_JSON), 'r', encoding='utf-8') as f:\n",
    "    prompts = json.load(f)\n",
    "\n",
    "random.seed(42)\n",
    "sample_size = 5\n",
    "sampled_test_data = random.sample(prompts, sample_size)\n",
    "\n",
    "test_prompts = [{'role': 'user', 'content': sample['prompt']} for sample in sampled_test_data]\n",
    "expected_responses = [sample['gold_sql'] for sample in sampled_test_data]\n",
    "\n",
    "results = evaluate_prompts(test_prompts, expected_responses)"
   ]
  },
  {
   "cell_type": "code",
   "execution_count": 10,
   "metadata": {},
   "outputs": [],
   "source": [
    "# results"
   ]
  },
  {
   "cell_type": "code",
   "execution_count": 11,
   "metadata": {},
   "outputs": [],
   "source": [
    "predicted_sql = [e['actual'] for e in results['responses']]\n",
    "gold_sql = [e['expected'] for e in results['responses']]"
   ]
  },
  {
   "cell_type": "code",
   "execution_count": 12,
   "metadata": {},
   "outputs": [],
   "source": [
    "# Save output\n",
    "with open(config.PREDICTED_SQL, \"w\", encoding=\"utf-8\") as f:\n",
    "    for query in predicted_sql:\n",
    "        f.write(query + \"\\n\")\n",
    "\n",
    "with open(config.GOLD_SQL, \"w\", encoding=\"utf-8\") as f:\n",
    "    for query, entry in zip(gold_sql, sampled_test_data):\n",
    "        f.write(f'{query}\\t{entry['db']}\\n')"
   ]
  },
  {
   "cell_type": "code",
   "execution_count": 13,
   "metadata": {},
   "outputs": [],
   "source": [
    "# # Display results\n",
    "# print(f\"Evaluation Results:\")\n",
    "# print(f\"Total Prompts: {results['total_prompts']}\")\n",
    "# print(f\"Successful Matches: {results['successful_matches']}\")\n",
    "# print(f\"Accuracy: {results['accuracy']:.2f}%\")\n",
    "# print(\"\\nDetailed Results:\")\n",
    "\n",
    "# for result in results['responses']:\n",
    "#     print(f\"\\nPrompt: {json.dumps(result['prompt'])}\")\n",
    "#     print(f\"Expected: {result['expected']}\")\n",
    "#     print(f\"Actual: {result['actual']}\")\n",
    "#     print(f\"Match: {result['match']}\")\n",
    "#     print(\"-\" * 80)"
   ]
  },
  {
   "cell_type": "code",
   "execution_count": null,
   "metadata": {},
   "outputs": [],
   "source": []
  }
 ],
 "metadata": {
  "kernelspec": {
   "display_name": "unrc-cs-thesis",
   "language": "python",
   "name": "python3"
  },
  "language_info": {
   "codemirror_mode": {
    "name": "ipython",
    "version": 3
   },
   "file_extension": ".py",
   "mimetype": "text/x-python",
   "name": "python",
   "nbconvert_exporter": "python",
   "pygments_lexer": "ipython3",
   "version": "3.12.9"
  }
 },
 "nbformat": 4,
 "nbformat_minor": 2
}
