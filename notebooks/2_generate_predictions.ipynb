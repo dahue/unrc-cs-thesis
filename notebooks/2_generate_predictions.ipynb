{
 "cells": [
  {
   "cell_type": "code",
   "execution_count": 1,
   "metadata": {},
   "outputs": [],
   "source": [
    "%run ../utils/init_env.py"
   ]
  },
  {
   "cell_type": "code",
   "execution_count": 2,
   "metadata": {},
   "outputs": [],
   "source": [
    "import requests\n",
    "from typing import List, Dict\n",
    "\n",
    "# Configuration\n",
    "LMSTUDIO_API_URL = \"http://localhost:1234/v1/completions\"  # Adjust port if needed"
   ]
  },
  {
   "cell_type": "code",
   "execution_count": 2,
   "metadata": {},
   "outputs": [],
   "source": [
    "def send_prompt_to_lmstudio(prompt: str, system_prompt: str = \"\", max_tokens: int = 500) -> str:\n",
    "    \"\"\"\n",
    "    Send a single prompt to LMStudio with an optional system prompt and return the response\n",
    "    \"\"\"\n",
    "    headers = {\n",
    "        \"Content-Type\": \"application/json\"\n",
    "    }\n",
    "    \n",
    "    # Combine system prompt and user prompt\n",
    "    full_prompt = f\"{system_prompt}\\n\\n{prompt}\" if system_prompt else prompt\n",
    "    \n",
    "    payload = {\n",
    "        \"prompt\": full_prompt,\n",
    "        \"max_tokens\": max_tokens,\n",
    "        \"temperature\": 0.7,  # Adjust as needed\n",
    "        \"top_p\": 1.0\n",
    "    }\n",
    "    \n",
    "    try:\n",
    "        response = requests.post(LMSTUDIO_API_URL, headers=headers, json=payload)\n",
    "        response.raise_for_status()\n",
    "        return response.json()[\"choices\"][0][\"text\"].strip()\n",
    "    except requests.exceptions.RequestException as e:\n",
    "        print(f\"Error connecting to LMStudio: {e}\")\n",
    "        return None\n",
    "\n",
    "def evaluate_prompts(prompts: List[str], expected_responses: List[str], system_prompt: str = \"\") -> Dict:\n",
    "    \"\"\"\n",
    "    Evaluate multiple prompts with an optional system prompt and compare with expected responses\n",
    "    \"\"\"\n",
    "    results = {\n",
    "        \"total_prompts\": len(prompts),\n",
    "        \"successful_matches\": 0,\n",
    "        \"responses\": [],\n",
    "        \"system_prompt_used\": system_prompt\n",
    "    }\n",
    "    \n",
    "    if len(prompts) != len(expected_responses):\n",
    "        raise ValueError(\"Number of prompts must match number of expected responses\")\n",
    "    \n",
    "    for i, (prompt, expected) in enumerate(zip(prompts, expected_responses)):\n",
    "        # Send prompt to LLM with system prompt\n",
    "        actual_response = send_prompt_to_lmstudio(prompt, system_prompt)\n",
    "        \n",
    "        if actual_response is None:\n",
    "            continue\n",
    "            \n",
    "        # Simple comparison (case-insensitive exact match)\n",
    "        is_match = actual_response.lower() == expected.lower()\n",
    "        if is_match:\n",
    "            results[\"successful_matches\"] += 1\n",
    "            \n",
    "        # Store detailed results\n",
    "        results[\"responses\"].append({\n",
    "            \"prompt\": prompt,\n",
    "            \"expected\": expected,\n",
    "            \"actual\": actual_response,\n",
    "            \"match\": is_match\n",
    "        })\n",
    "    \n",
    "    # Calculate accuracy\n",
    "    results[\"accuracy\"] = results[\"successful_matches\"] / results[\"total_prompts\"] * 100\n",
    "    return results"
   ]
  },
  {
   "cell_type": "code",
   "execution_count": null,
   "metadata": {},
   "outputs": [],
   "source": []
  }
 ],
 "metadata": {
  "kernelspec": {
   "display_name": "tesis",
   "language": "python",
   "name": "python3"
  },
  "language_info": {
   "codemirror_mode": {
    "name": "ipython",
    "version": 3
   },
   "file_extension": ".py",
   "mimetype": "text/x-python",
   "name": "python",
   "nbconvert_exporter": "python",
   "pygments_lexer": "ipython3",
   "version": "3.9.0"
  }
 },
 "nbformat": 4,
 "nbformat_minor": 2
}
