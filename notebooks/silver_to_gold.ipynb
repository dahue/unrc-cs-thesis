{
 "cells": [
  {
   "cell_type": "code",
   "execution_count": 2,
   "metadata": {},
   "outputs": [
    {
     "name": "stdout",
     "output_type": "stream",
     "text": [
      "✅ Gold transformation complete.\n"
     ]
    }
   ],
   "source": [
    "import os\n",
    "import sqlite3\n",
    "import json\n",
    "import re\n",
    "\n",
    "ROOT_PATH = \"/Users/atissera/Developer/repos/unrc-cs-thesis\"\n",
    "SILVER_DB = f\"{ROOT_PATH}/database/silver/silver.sqlite\"\n",
    "GOLD_DB = f\"{ROOT_PATH}/database/gold/gold.sqlite\"\n",
    "SCHEMA_FILE = f\"{ROOT_PATH}/database/gold/schema.sql\"\n",
    "\n",
    "os.makedirs(os.path.dirname(GOLD_DB), exist_ok=True)\n",
    "\n",
    "# -- Load schema and initialize gold DB --\n",
    "conn_gold = sqlite3.connect(GOLD_DB)\n",
    "with open(SCHEMA_FILE, \"r\", encoding=\"utf-8\") as f:\n",
    "    conn_gold.executescript(f.read())\n",
    "cursor_gold = conn_gold.cursor()\n",
    "\n",
    "# -- Connect to silver DB --\n",
    "conn_silver = sqlite3.connect(SILVER_DB)\n",
    "cursor_silver = conn_silver.cursor()\n",
    "\n",
    "\n",
    "cursor_silver.execute(\"\"\"\n",
    "    SELECT d.id, d.db_id, d.source, d.question, d.query, d.is_valid, d.notes, d.simplified_ddl, d.full_ddl, d.foreign_keys, d.difficulty, d.natsql\n",
    "    FROM silver_dataset d\n",
    "\"\"\")\n",
    "rows = cursor_silver.fetchall()\n",
    "\n",
    "# -- Process and insert --\n",
    "for id, db_id, source, question, query, is_valid, notes, simplified_ddl, full_ddl, foreign_keys, difficulty, natsql in rows:\n",
    "    try:\n",
    "        cursor_gold.execute(\n",
    "            \"\"\"\n",
    "            INSERT INTO gold_dataset (\n",
    "                id, db_id, source, question, query, is_valid, notes, simplified_ddl, full_ddl, foreign_keys, difficulty, natsql\n",
    "            )\n",
    "            VALUES (?, ?, ?, ?, ?, ?, ?, ?, ?, ?, ?, ?)\n",
    "            \"\"\",\n",
    "            (\n",
    "                id,\n",
    "                db_id,\n",
    "                source,\n",
    "                question,\n",
    "                query,\n",
    "                is_valid,\n",
    "                notes,\n",
    "                simplified_ddl,\n",
    "                full_ddl,\n",
    "                foreign_keys,\n",
    "                difficulty,\n",
    "                natsql\n",
    "            )\n",
    "        )\n",
    "    except Exception as e:\n",
    "        print(f\"❌ Error processing db_id={db_id}: {e}\")\n",
    "\n",
    "conn_gold.commit()\n",
    "conn_gold.close()\n",
    "print(\"✅ Gold transformation complete.\")"
   ]
  },
  {
   "cell_type": "code",
   "execution_count": null,
   "metadata": {},
   "outputs": [],
   "source": []
  }
 ],
 "metadata": {
  "kernelspec": {
   "display_name": "unrc-cs-thesis",
   "language": "python",
   "name": "python3"
  },
  "language_info": {
   "codemirror_mode": {
    "name": "ipython",
    "version": 3
   },
   "file_extension": ".py",
   "mimetype": "text/x-python",
   "name": "python",
   "nbconvert_exporter": "python",
   "pygments_lexer": "ipython3",
   "version": "3.12.9"
  }
 },
 "nbformat": 4,
 "nbformat_minor": 2
}
