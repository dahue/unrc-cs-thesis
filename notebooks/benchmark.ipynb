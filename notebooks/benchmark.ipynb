{
 "cells": [
  {
   "cell_type": "code",
   "execution_count": null,
   "metadata": {},
   "outputs": [],
   "source": [
    "import os\n",
    "import sys\n",
    "import sqlite3\n",
    "import json\n",
    "import tempfile\n",
    "import spider.evaluation as sp\n",
    "from dotenv import load_dotenv\n",
    "load_dotenv()\n",
    "\n",
    "ROOT_PATH = os.environ.get(\"ROOT_PATH\")\n",
    "TMP_DIR = os.environ.get(\"TMP_DIR\")\n",
    "\n",
    "if not ROOT_PATH:\n",
    "    raise ValueError(\"ROOT_PATH environment variable not set. Please set it in your .env file.\")\n",
    "if not TMP_DIR:\n",
    "    raise ValueError(\"TMP_DIR environment variable not set. Please set it in your .env file.\")\n",
    "\n",
    "BRONZE_DB = f\"{ROOT_PATH}/database/bronze/bronze.sqlite\"\n",
    "\n",
    "conn_bronze = sqlite3.connect(BRONZE_DB)\n",
    "conn_bronze.row_factory = sqlite3.Row\n",
    "\n",
    "cursor_bronze = conn_bronze.cursor()\n",
    "cursor_bronze.execute(\"SELECT * FROM spider_tables\")\n",
    "rows = cursor_bronze.fetchall()\n",
    "\n",
    "json_fields = ['table_names', 'table_names_original', 'column_names', \n",
    "               'column_names_original', 'column_types', 'primary_keys', 'foreign_keys']\n",
    "\n",
    "json_data = []\n",
    "for row in rows:\n",
    "    row_dict = dict(row)\n",
    "    \n",
    "    for field in json_fields:\n",
    "        if field in row_dict and row_dict[field]:\n",
    "            try:\n",
    "                row_dict[field] = json.loads(row_dict[field])\n",
    "            except json.JSONDecodeError:\n",
    "                pass\n",
    "    \n",
    "    json_data.append(row_dict)\n",
    "\n",
    "json_string = json.dumps(json_data, indent=2)\n",
    "\n",
    "with tempfile.NamedTemporaryFile(mode='w', suffix='.json', delete=False) as temp_file:\n",
    "    temp_file.write(json_string)\n",
    "    temp_file_path = temp_file.name\n",
    "\n",
    "KMAPS = sp.build_foreign_key_map_from_json(temp_file_path)\n",
    "os.unlink(temp_file_path)\n",
    "\n",
    "PREDICTED_DATA = f'{ROOT_PATH}/data'\n",
    "DB_DIR = f\"{ROOT_PATH}/database/spider\"\n",
    "GOLD = f\"{ROOT_PATH}/data/training/nl2SQL/template_11/t_valid.sql\"\n",
    "PREDICT = f\"{PREDICTED_DATA}/predictions/pred.sql\"\n",
    "ETYPE = \"all\" # all, easy, medium, hard\n",
    "\n",
    "with open('output.txt', 'w') as f:\n",
    "    original_stdout = sys.stdout\n",
    "    sys.stdout = f\n",
    "    sp.evaluate(gold=GOLD , predict=PREDICT, db_dir=DB_DIR, etype=ETYPE, kmaps=KMAPS)\n",
    "    sys.stdout = original_stdout\n"
   ]
  },
  {
   "cell_type": "code",
   "execution_count": null,
   "metadata": {},
   "outputs": [],
   "source": []
  },
  {
   "cell_type": "code",
   "execution_count": null,
   "metadata": {},
   "outputs": [],
   "source": []
  },
  {
   "cell_type": "code",
   "execution_count": null,
   "metadata": {},
   "outputs": [],
   "source": []
  },
  {
   "cell_type": "code",
   "execution_count": null,
   "metadata": {},
   "outputs": [],
   "source": []
  }
 ],
 "metadata": {
  "kernelspec": {
   "display_name": "unrc-cs-thesis",
   "language": "python",
   "name": "python3"
  },
  "language_info": {
   "codemirror_mode": {
    "name": "ipython",
    "version": 3
   },
   "file_extension": ".py",
   "mimetype": "text/x-python",
   "name": "python",
   "nbconvert_exporter": "python",
   "pygments_lexer": "ipython3",
   "version": "3.12.9"
  }
 },
 "nbformat": 4,
 "nbformat_minor": 2
}
